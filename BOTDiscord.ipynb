{
 "cells": [
  {
   "cell_type": "code",
   "execution_count": 1,
   "id": "50ebb2f8",
   "metadata": {},
   "outputs": [
    {
     "name": "stdout",
     "output_type": "stream",
     "text": [
      "Requirement already satisfied: python-dotenv in c:\\users\\adobr\\appdata\\local\\programs\\python\\python39\\lib\\site-packages (0.18.0)\n",
      "Note: you may need to restart the kernel to use updated packages.\n"
     ]
    }
   ],
   "source": [
    "pip install python-dotenv"
   ]
  },
  {
   "cell_type": "code",
   "execution_count": 2,
   "id": "be38505b",
   "metadata": {},
   "outputs": [
    {
     "name": "stdout",
     "output_type": "stream",
     "text": [
      "Requirement already satisfied: ffprobe in c:\\users\\adobr\\appdata\\local\\programs\\python\\python39\\lib\\site-packages (0.5)\n",
      "Note: you may need to restart the kernel to use updated packages.\n"
     ]
    }
   ],
   "source": [
    "pip install ffprobe"
   ]
  },
  {
   "cell_type": "code",
   "execution_count": 3,
   "id": "fe521af4",
   "metadata": {},
   "outputs": [
    {
     "name": "stdout",
     "output_type": "stream",
     "text": [
      "Requirement already satisfied: discord.py[voice] in c:\\users\\adobr\\appdata\\local\\programs\\python\\python39\\lib\\site-packages (1.7.3)\n",
      "Requirement already satisfied: aiohttp<3.8.0,>=3.6.0 in c:\\users\\adobr\\appdata\\local\\programs\\python\\python39\\lib\\site-packages (from discord.py[voice]) (3.7.4.post0)\n",
      "Requirement already satisfied: PyNaCl<1.5,>=1.3.0 in c:\\users\\adobr\\appdata\\local\\programs\\python\\python39\\lib\\site-packages (from discord.py[voice]) (1.4.0)\n",
      "Requirement already satisfied: multidict<7.0,>=4.5 in c:\\users\\adobr\\appdata\\local\\programs\\python\\python39\\lib\\site-packages (from aiohttp<3.8.0,>=3.6.0->discord.py[voice]) (5.1.0)\n",
      "Requirement already satisfied: typing-extensions>=3.6.5 in c:\\users\\adobr\\appdata\\local\\programs\\python\\python39\\lib\\site-packages (from aiohttp<3.8.0,>=3.6.0->discord.py[voice]) (3.10.0.0)\n",
      "Requirement already satisfied: yarl<2.0,>=1.0 in c:\\users\\adobr\\appdata\\local\\programs\\python\\python39\\lib\\site-packages (from aiohttp<3.8.0,>=3.6.0->discord.py[voice]) (1.6.3)\n",
      "Requirement already satisfied: chardet<5.0,>=2.0 in c:\\users\\adobr\\appdata\\local\\programs\\python\\python39\\lib\\site-packages (from aiohttp<3.8.0,>=3.6.0->discord.py[voice]) (4.0.0)\n",
      "Requirement already satisfied: attrs>=17.3.0 in c:\\users\\adobr\\appdata\\local\\programs\\python\\python39\\lib\\site-packages (from aiohttp<3.8.0,>=3.6.0->discord.py[voice]) (21.2.0)\n",
      "Requirement already satisfied: async-timeout<4.0,>=3.0 in c:\\users\\adobr\\appdata\\local\\programs\\python\\python39\\lib\\site-packages (from aiohttp<3.8.0,>=3.6.0->discord.py[voice]) (3.0.1)\n",
      "Requirement already satisfied: cffi>=1.4.1 in c:\\users\\adobr\\appdata\\local\\programs\\python\\python39\\lib\\site-packages (from PyNaCl<1.5,>=1.3.0->discord.py[voice]) (1.14.5)\n",
      "Requirement already satisfied: six in c:\\users\\adobr\\appdata\\local\\programs\\python\\python39\\lib\\site-packages (from PyNaCl<1.5,>=1.3.0->discord.py[voice]) (1.16.0)\n",
      "Requirement already satisfied: pycparser in c:\\users\\adobr\\appdata\\local\\programs\\python\\python39\\lib\\site-packages (from cffi>=1.4.1->PyNaCl<1.5,>=1.3.0->discord.py[voice]) (2.20)\n",
      "Requirement already satisfied: idna>=2.0 in c:\\users\\adobr\\appdata\\local\\programs\\python\\python39\\lib\\site-packages (from yarl<2.0,>=1.0->aiohttp<3.8.0,>=3.6.0->discord.py[voice]) (2.10)\n",
      "Note: you may need to restart the kernel to use updated packages.\n"
     ]
    }
   ],
   "source": [
    "pip install -U discord.py[voice]"
   ]
  },
  {
   "cell_type": "code",
   "execution_count": 4,
   "id": "8846fbf8",
   "metadata": {},
   "outputs": [
    {
     "name": "stdout",
     "output_type": "stream",
     "text": [
      "Requirement already satisfied: youtube_dl in c:\\users\\adobr\\appdata\\local\\programs\\python\\python39\\lib\\site-packages (2021.6.6)\n",
      "Note: you may need to restart the kernel to use updated packages.\n"
     ]
    }
   ],
   "source": [
    " pip install --upgrade youtube_dl"
   ]
  },
  {
   "cell_type": "code",
   "execution_count": 5,
   "id": "265feeee",
   "metadata": {},
   "outputs": [
    {
     "name": "stdout",
     "output_type": "stream",
     "text": [
      "Requirement already satisfied: nest_asyncio in c:\\users\\adobr\\appdata\\local\\programs\\python\\python39\\lib\\site-packages (1.5.1)\n",
      "Note: you may need to restart the kernel to use updated packages.\n"
     ]
    }
   ],
   "source": [
    "pip install nest_asyncio"
   ]
  },
  {
   "cell_type": "code",
   "execution_count": 6,
   "id": "9c98faad",
   "metadata": {},
   "outputs": [
    {
     "name": "stdout",
     "output_type": "stream",
     "text": [
      "Requirement already satisfied: pynacl in c:\\users\\adobr\\appdata\\local\\programs\\python\\python39\\lib\\site-packages (1.4.0)\n",
      "Requirement already satisfied: cffi>=1.4.1 in c:\\users\\adobr\\appdata\\local\\programs\\python\\python39\\lib\\site-packages (from pynacl) (1.14.5)\n",
      "Requirement already satisfied: six in c:\\users\\adobr\\appdata\\local\\programs\\python\\python39\\lib\\site-packages (from pynacl) (1.16.0)\n",
      "Requirement already satisfied: pycparser in c:\\users\\adobr\\appdata\\local\\programs\\python\\python39\\lib\\site-packages (from cffi>=1.4.1->pynacl) (2.20)\n",
      "Note: you may need to restart the kernel to use updated packages.\n"
     ]
    }
   ],
   "source": [
    "pip install pynacl"
   ]
  },
  {
   "cell_type": "code",
   "execution_count": 7,
   "id": "2d432533",
   "metadata": {},
   "outputs": [
    {
     "name": "stdout",
     "output_type": "stream",
     "text": [
      "Requirement already satisfied: youtube_dl in c:\\users\\adobr\\appdata\\local\\programs\\python\\python39\\lib\\site-packages (2021.6.6)\n",
      "Note: you may need to restart the kernel to use updated packages.\n"
     ]
    }
   ],
   "source": [
    "pip install -U youtube_dl"
   ]
  },
  {
   "cell_type": "code",
   "execution_count": 8,
   "id": "a3046b3d",
   "metadata": {},
   "outputs": [],
   "source": [
    "import os"
   ]
  },
  {
   "cell_type": "code",
   "execution_count": 9,
   "id": "4f2f7cfb",
   "metadata": {},
   "outputs": [],
   "source": [
    "import discord"
   ]
  },
  {
   "cell_type": "code",
   "execution_count": 10,
   "id": "37c698c5",
   "metadata": {},
   "outputs": [],
   "source": [
    "import asyncio"
   ]
  },
  {
   "cell_type": "code",
   "execution_count": 11,
   "id": "53d8564e",
   "metadata": {},
   "outputs": [],
   "source": [
    "import ffmpeg"
   ]
  },
  {
   "cell_type": "code",
   "execution_count": 12,
   "id": "f1f94782",
   "metadata": {},
   "outputs": [],
   "source": [
    "import time"
   ]
  },
  {
   "cell_type": "code",
   "execution_count": 13,
   "id": "857fa1f2",
   "metadata": {},
   "outputs": [],
   "source": [
    "from discord.voice_client import VoiceClient"
   ]
  },
  {
   "cell_type": "code",
   "execution_count": 14,
   "id": "cecf0387",
   "metadata": {},
   "outputs": [],
   "source": [
    "from discord.ext.commands import Bot"
   ]
  },
  {
   "cell_type": "code",
   "execution_count": 15,
   "id": "4f0e1061",
   "metadata": {},
   "outputs": [],
   "source": [
    "from discord.ext import commands"
   ]
  },
  {
   "cell_type": "code",
   "execution_count": 16,
   "id": "2f0ecd99",
   "metadata": {},
   "outputs": [],
   "source": [
    "from discord.ext.commands import CommandNotFound"
   ]
  },
  {
   "cell_type": "code",
   "execution_count": 17,
   "id": "510e0005",
   "metadata": {},
   "outputs": [],
   "source": [
    "import  urllib.request"
   ]
  },
  {
   "cell_type": "code",
   "execution_count": 18,
   "id": "b85bc701",
   "metadata": {},
   "outputs": [],
   "source": [
    "import json"
   ]
  },
  {
   "cell_type": "code",
   "execution_count": 19,
   "id": "91fafdd4",
   "metadata": {},
   "outputs": [],
   "source": [
    "from dotenv import load_dotenv"
   ]
  },
  {
   "cell_type": "code",
   "execution_count": 20,
   "id": "ecb1ee1e",
   "metadata": {},
   "outputs": [],
   "source": [
    "import nest_asyncio"
   ]
  },
  {
   "cell_type": "code",
   "execution_count": 21,
   "id": "00c30440",
   "metadata": {},
   "outputs": [],
   "source": [
    "import youtube_dl"
   ]
  },
  {
   "cell_type": "code",
   "execution_count": 22,
   "id": "fb957196",
   "metadata": {},
   "outputs": [],
   "source": [
    "from discord.utils import get"
   ]
  },
  {
   "cell_type": "code",
   "execution_count": 23,
   "id": "24d1f8fc",
   "metadata": {},
   "outputs": [],
   "source": [
    "from discord import FFmpegPCMAudio"
   ]
  },
  {
   "cell_type": "code",
   "execution_count": 24,
   "id": "260056dd",
   "metadata": {},
   "outputs": [],
   "source": [
    "from discord import Member"
   ]
  },
  {
   "cell_type": "code",
   "execution_count": 25,
   "id": "c236d725",
   "metadata": {},
   "outputs": [],
   "source": [
    "from discord.ext.commands import has_permissions, MissingPermissions"
   ]
  },
  {
   "cell_type": "code",
   "execution_count": 26,
   "id": "72dbcedf",
   "metadata": {},
   "outputs": [],
   "source": [
    "\n",
    "\n",
    "from youtube_dl import YoutubeDL"
   ]
  },
  {
   "cell_type": "raw",
   "id": "1c50ff62",
   "metadata": {},
   "source": [
    "Cosas que arreglar:\n",
    "    -Limpiar comandos\n",
    "    -Verificar comandos erroneos\n",
    "    -En on_message arreglar y especificar el chat de texto\n",
    "    -Limitar los roles de mando en comandos"
   ]
  },
  {
   "cell_type": "code",
   "execution_count": 27,
   "id": "8b2c2000",
   "metadata": {},
   "outputs": [
    {
     "data": {
      "text/plain": [
       "True"
      ]
     },
     "execution_count": 27,
     "metadata": {},
     "output_type": "execute_result"
    }
   ],
   "source": [
    "load_dotenv()\n"
   ]
  },
  {
   "cell_type": "code",
   "execution_count": 28,
   "id": "7638a2ad",
   "metadata": {},
   "outputs": [],
   "source": [
    "nest_asyncio.apply()"
   ]
  },
  {
   "cell_type": "code",
   "execution_count": 29,
   "id": "89030549",
   "metadata": {},
   "outputs": [],
   "source": [
    "lista=[]"
   ]
  },
  {
   "cell_type": "code",
   "execution_count": 30,
   "id": "e851a2ea",
   "metadata": {},
   "outputs": [],
   "source": [
    "client = discord.Client()"
   ]
  },
  {
   "cell_type": "code",
   "execution_count": 31,
   "id": "d005cc49",
   "metadata": {},
   "outputs": [],
   "source": [
    "bot= commands.Bot(command_prefix='!')"
   ]
  },
  {
   "cell_type": "markdown",
   "id": "64f8205b",
   "metadata": {},
   "source": [
    "Comando de suma de dos valores"
   ]
  },
  {
   "cell_type": "code",
   "execution_count": 32,
   "id": "ea5b0a4d",
   "metadata": {},
   "outputs": [],
   "source": [
    "@bot.command(name='s')\n",
    "async def sumar(ctx,a,b):\n",
    "    response=int(a)+int(b)\n",
    "    await ctx.send(response)"
   ]
  },
  {
   "cell_type": "markdown",
   "id": "50429440",
   "metadata": {},
   "source": [
    "Comando para hacer print"
   ]
  },
  {
   "cell_type": "code",
   "execution_count": 33,
   "id": "c154593b",
   "metadata": {},
   "outputs": [],
   "source": [
    "@bot.command(name='tuama',hidden=True)\n",
    "async def getJefe(ctx):\n",
    "    response='Mi mami es Adilem'\n",
    "    await ctx.send(response)\n"
   ]
  },
  {
   "cell_type": "markdown",
   "id": "fc59c942",
   "metadata": {},
   "source": [
    "Unirse a un voice channel en discord"
   ]
  },
  {
   "cell_type": "code",
   "execution_count": 34,
   "id": "07236179",
   "metadata": {},
   "outputs": [],
   "source": [
    "@bot.command(name='unete')\n",
    "async def _join(ctx, channel : discord.VoiceChannel):\n",
    "    youtubeLink='https://www.youtube.com/watch?v=pKKQ1R2AEyI'\n",
    "    await channel.connect()\n",
    "    youtube_dl.YoutubeDL({'format': 'bestaudio/best','outtmpl': 'cache/music/music.%(ext)s', 'postprocessors': [{'key': 'FFmpegExtractAudio', 'preferredcodec': 'mp3', 'preferredquality': '192'}]}).download([youtubeLink])\n",
    "    ctx.guild.voice_client.originalSource = discord.FFmpegPCMAudio('cache/music/music.mp3')\n",
    "    ctx.guild.voice_client.play(ctx.guild.voice_client.originalSource)"
   ]
  },
  {
   "cell_type": "markdown",
   "id": "7946c290",
   "metadata": {},
   "source": [
    "Salirse de un voice channel en discord"
   ]
  },
  {
   "cell_type": "code",
   "execution_count": 35,
   "id": "204db1c5",
   "metadata": {},
   "outputs": [],
   "source": [
    "@bot.command(name='vete',descripcion='bot se ira del chat de voz')\n",
    "async def leave(ctx):\n",
    "    youtubeLink= 'https://www.youtube.com/watch?v=H6dXZWtEiRw'\n",
    "    youtube_dl.YoutubeDL({'format': 'bestaudio/best','outtmpl': 'cache/music/music.%(ext)s', 'postprocessors': [{'key': 'FFmpegExtractAudio', 'preferredcodec': 'mp3', 'preferredquality': '192'}]}).download([youtubeLink])\n",
    "    ctx.guild.voice_client.originalSource = discord.FFmpegPCMAudio('cache/music/music.mp3')\n",
    "    ctx.guild.voice_client.play(ctx.guild.voice_client.originalSource)\n",
    "    #espero que diga adios\n",
    "    await asyncio.sleep(2)\n",
    "    #nos desconectamos\n",
    "    await bot.voice_clients[0].disconnect()"
   ]
  },
  {
   "cell_type": "markdown",
   "id": "a33fb6c4",
   "metadata": {},
   "source": [
    "Reproduce musica"
   ]
  },
  {
   "cell_type": "code",
   "execution_count": 36,
   "id": "ff0c0564",
   "metadata": {},
   "outputs": [],
   "source": [
    "@bot.command(name='m',descripcion='bot poner musica')\n",
    "async def _play( ctx, youtubeLink):\n",
    "    youtube_dl.YoutubeDL({'format': 'bestaudio/best','outtmpl': 'cache/music/music.%(ext)s', 'postprocessors': [{'key': 'FFmpegExtractAudio', 'preferredcodec': 'mp3', 'preferredquality': '192'}]}).download([youtubeLink])\n",
    "    ctx.guild.voice_client.originalSource = discord.FFmpegPCMAudio('cache/music/music.mp3')\n",
    "    ctx.guild.voice_client.play(ctx.guild.voice_client.originalSource)"
   ]
  },
  {
   "cell_type": "markdown",
   "id": "b7b2118f",
   "metadata": {},
   "source": [
    "Mensaje de error si el comando es desconocido"
   ]
  },
  {
   "cell_type": "code",
   "execution_count": 37,
   "id": "0c233a0a",
   "metadata": {},
   "outputs": [],
   "source": [
    "@bot.event\n",
    "async def on_command_error(ctx, error):\n",
    "    print('error')\n",
    "    if isinstance(error, CommandNotFound):\n",
    "        await ctx.send(\"No conosco ese comando, si necesitas ayuda escripe !ayuda y te mostrare todos los comandos disponibles\")"
   ]
  },
  {
   "cell_type": "markdown",
   "id": "33f5e656",
   "metadata": {},
   "source": [
    "Algunos extras para ver lista de los comandos"
   ]
  },
  {
   "cell_type": "code",
   "execution_count": 38,
   "id": "bd55f221",
   "metadata": {},
   "outputs": [],
   "source": [
    "#@bot.command(name=\"ayuda\", description=\"Returns all commands available\")\n",
    "async def help(ctx):\n",
    "    helptext = \"```\"\n",
    "    for command in bot.commands:\n",
    "        helptext+=f\"{command}\\n\"\n",
    "    helptext+=\"```\"\n",
    "    await ctx.send(helptext)\n"
   ]
  },
  {
   "cell_type": "markdown",
   "id": "d1f4667a",
   "metadata": {},
   "source": [
    "Chats embebidos con algunos conceptos o comandos"
   ]
  },
  {
   "cell_type": "code",
   "execution_count": 39,
   "id": "104a2aff",
   "metadata": {},
   "outputs": [],
   "source": [
    "@bot.command(name='ayuda',descripcion='brindar ayuda')\n",
    "#cambiar a client\n",
    "\n",
    "async def help(ctx):\n",
    "            bot.remove_command('ayuda')\n",
    "            embed = discord.Embed(title=\"Help on BOT\", description=\"Some useful commands\")\n",
    "            embed.add_field(name=\"!hello\", value=\"Greets the user\")\n",
    "            embed.add_field(name=\"!users\", value=\"Prints number of users\")\n",
    "            await ctx.send(content=None, embed=embed)\n",
    "            bot.remove_command('ayuda')"
   ]
  },
  {
   "cell_type": "markdown",
   "id": "20540443",
   "metadata": {},
   "source": [
    "Kick un usuario del servidor de discord"
   ]
  },
  {
   "cell_type": "code",
   "execution_count": 40,
   "id": "86e25997",
   "metadata": {},
   "outputs": [],
   "source": [
    "@bot.command(name=\"kick\")\n",
    "@has_permissions(manage_roles=True, ban_members=True)\n",
    "async def _kick(ctx, member:  discord.Member):\n",
    "    await member.kick()"
   ]
  },
  {
   "cell_type": "markdown",
   "id": "7d015e9f",
   "metadata": {},
   "source": [
    "Limpiar comandos del chat (arreglar)"
   ]
  },
  {
   "cell_type": "code",
   "execution_count": null,
   "id": "6f3b4e3e",
   "metadata": {},
   "outputs": [],
   "source": []
  },
  {
   "cell_type": "markdown",
   "id": "2696a3e9",
   "metadata": {},
   "source": [
    "Funcion especial para el canal de quique"
   ]
  },
  {
   "cell_type": "code",
   "execution_count": 41,
   "id": "a4930c43",
   "metadata": {},
   "outputs": [],
   "source": [
    "#VERIFICAR SI A QUIQUE LE SALE\n",
    "@client.event\n",
    "#CUANDO SE ACTIVE UN MENSAJE EN  EL CANAL:\n",
    "async def on_message(message):\n",
    "    print('Se ha enviado un mensaje')  \n",
    "    #nombre del usuario:\n",
    "    user=str(message.author)\n",
    "    usuario=message.author\n",
    "    #nickname:\n",
    "    nuevoNombre=str(message.content)\n",
    "    #si el usuario esta en lista\n",
    "    if(user in lista):\n",
    "            print(str(user)+'ya existe')\n",
    "    else:\n",
    "        print('no existía')\n",
    "        lista.append(user)\n",
    "        rol = get(usuario.guild.roles, name=\"chivo\")\n",
    "        await usuario.edit(nick=nuevoNombre)\n",
    "        print(\"{} Hey tienes un nuevo rol\".format(usuario))\n",
    "        await usuario.add_roles(rol)"
   ]
  },
  {
   "cell_type": "code",
   "execution_count": null,
   "id": "17342ba1",
   "metadata": {
    "scrolled": true
   },
   "outputs": [
    {
     "name": "stdout",
     "output_type": "stream",
     "text": [
      "error\n",
      "error\n",
      "[youtube] pKKQ1R2AEyI: Downloading webpage\n",
      "[download] Destination: cache\\music\\music.m4a\n",
      "[download] 100% of 49.26KiB in 00:00                  \n",
      "[ffmpeg] Correcting container in \"cache\\music\\music.m4a\"\n",
      "[ffmpeg] Destination: cache\\music\\music.mp3\n",
      "Deleting original file cache\\music\\music.m4a (pass -k to keep)\n",
      "[youtube] H6dXZWtEiRw: Downloading webpage\n",
      "[download] Destination: cache\\music\\music.m4a\n",
      "[download] 100% of 49.90KiB in 00:00                 \n",
      "[ffmpeg] Correcting container in \"cache\\music\\music.m4a\"\n",
      "[ffmpeg] Destination: cache\\music\\music.mp3\n",
      "Deleting original file cache\\music\\music.m4a (pass -k to keep)\n"
     ]
    }
   ],
   "source": [
    "\n",
    "bot.run('ODYwNjAxMzYyMTE5NTI0MzUz.YN9neQ.55tk1eRHtQcYxA9dGhtQbgMb95U')"
   ]
  },
  {
   "cell_type": "code",
   "execution_count": null,
   "id": "8e01cd35",
   "metadata": {},
   "outputs": [],
   "source": []
  }
 ],
 "metadata": {
  "kernelspec": {
   "display_name": "Python 3",
   "language": "python",
   "name": "python3"
  },
  "language_info": {
   "codemirror_mode": {
    "name": "ipython",
    "version": 3
   },
   "file_extension": ".py",
   "mimetype": "text/x-python",
   "name": "python",
   "nbconvert_exporter": "python",
   "pygments_lexer": "ipython3",
   "version": "3.9.5"
  }
 },
 "nbformat": 4,
 "nbformat_minor": 5
}
